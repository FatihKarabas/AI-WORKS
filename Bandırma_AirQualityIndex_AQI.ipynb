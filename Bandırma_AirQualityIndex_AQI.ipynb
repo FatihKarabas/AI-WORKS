{
  "nbformat": 4,
  "nbformat_minor": 0,
  "metadata": {
    "colab": {
      "provenance": [],
      "collapsed_sections": [
        "UXkS__QYlMia",
        "fK38CahTbrOs",
        "I6eJVfI-b9-E",
        "wxuApUlXcWBH",
        "CYp8D9LOcnon",
        "N_NGXrYwc9w7",
        "ZqtyjPiLdR4D",
        "HhxMZMmCdlQD",
        "TsmqJNkgdw67"
      ],
      "authorship_tag": "ABX9TyNqNIGd6+eoPYng9Pp19axd",
      "include_colab_link": true
    },
    "kernelspec": {
      "name": "python3",
      "display_name": "Python 3"
    },
    "language_info": {
      "name": "python"
    }
  },
  "cells": [
    {
      "cell_type": "markdown",
      "metadata": {
        "id": "view-in-github",
        "colab_type": "text"
      },
      "source": [
        "<a href=\"https://colab.research.google.com/github/FatihKarabas/AI-WORKS/blob/main/Band%C4%B1rma_AirQualityIndex_AQI.ipynb\" target=\"_parent\"><img src=\"https://colab.research.google.com/assets/colab-badge.svg\" alt=\"Open In Colab\"/></a>"
      ]
    },
    {
      "cell_type": "markdown",
      "source": [
        "## **VERİ SETİ**"
      ],
      "metadata": {
        "id": "UXkS__QYlMia"
      }
    },
    {
      "cell_type": "markdown",
      "source": [
        "Bandırma Air Quality Dataset (2021–2024)\n",
        "\n",
        "Bu veri seti, Türkiye'nin Balıkesir ili Bandırma ilçesinde 2021-2024 yılları arasında ölçülen saatlik hava kirletici ve meteoroloji verilerine aittir.\n",
        "\n",
        "35.064 (saatlik) gözlem ve 11 sütundan oluşmaktadır.\n",
        "\n",
        "Sütunlar\n",
        "\n",
        "datetime: Ölçüm zaman\n",
        "\n",
        "**pm10** (Partikül Madde 10 mikron), **so2** (Kükürt Dioksit), **no2** (Azot Dioksit), **o3** (Ozon – Troposferik): Kirletici konsantrasyonları (µg/m³)\n",
        "\n",
        "temp (sıcaklık), dwpt (çiy noktası), rhum (bağıl nem), prcp (yağış), wdir (rüzgar yönü), wspd (rüzgar hızı), pres (basınç): Meteoroloji verileri\n",
        "\n",
        "Kaynak:\n",
        "\n",
        "T.C. Çevre Şehircilik ve İklim Değişikliği Bakanlığı, resmi internet sitesi url :\n",
        "https://sim.csb.gov.tr/\n",
        "\n",
        "https://dev.meteostat.net/python/hourly.html#example\n",
        "\n",
        "https://meteostat.net/\n"
      ],
      "metadata": {
        "id": "qww7_1tHP_1A"
      }
    },
    {
      "cell_type": "code",
      "source": [
        "!pip install meteostat\n",
        "\n",
        "# Import Meteostat library and dependencies\n",
        "from datetime import datetime\n",
        "from meteostat import Hourly\n",
        "\n",
        "# Set time period\n",
        "start = datetime(2021, 1, 1)\n",
        "end = datetime(2025, 1, 1, 1, 0)\n",
        "\n",
        "# Get hourly data\n",
        "datam = Hourly('17115', start, end)  # 17115 Station Identifiers BANDIRMA TANIMLAYICI KODU\n",
        "datam = datam.fetch()\n",
        "\n",
        "# Print DataFrame\n",
        "print(datam)\n",
        "datam = Hourly('17115', start, end)  # 17115 Station Identifiers BANDIRMA TANIMLAYICI KODU\n",
        "datam = datam.fetch()\n",
        "\n",
        "# Print DataFrame\n",
        "print(datam)"
      ],
      "metadata": {
        "colab": {
          "base_uri": "https://localhost:8080/"
        },
        "collapsed": true,
        "id": "8FbhfStfOZuY",
        "outputId": "0e60d054-f5b7-4af7-d857-2f3f80f1d055"
      },
      "execution_count": 59,
      "outputs": [
        {
          "output_type": "stream",
          "name": "stdout",
          "text": [
            "Collecting meteostat\n",
            "  Downloading meteostat-1.6.8-py3-none-any.whl.metadata (4.6 kB)\n",
            "Requirement already satisfied: pandas>=1.1 in /usr/local/lib/python3.11/dist-packages (from meteostat) (2.2.2)\n",
            "Requirement already satisfied: pytz in /usr/local/lib/python3.11/dist-packages (from meteostat) (2025.2)\n",
            "Requirement already satisfied: numpy in /usr/local/lib/python3.11/dist-packages (from meteostat) (2.0.2)\n",
            "Requirement already satisfied: python-dateutil>=2.8.2 in /usr/local/lib/python3.11/dist-packages (from pandas>=1.1->meteostat) (2.9.0.post0)\n",
            "Requirement already satisfied: tzdata>=2022.7 in /usr/local/lib/python3.11/dist-packages (from pandas>=1.1->meteostat) (2025.2)\n",
            "Requirement already satisfied: six>=1.5 in /usr/local/lib/python3.11/dist-packages (from python-dateutil>=2.8.2->pandas>=1.1->meteostat) (1.17.0)\n",
            "Downloading meteostat-1.6.8-py3-none-any.whl (31 kB)\n",
            "Installing collected packages: meteostat\n",
            "Successfully installed meteostat-1.6.8\n"
          ]
        },
        {
          "output_type": "stream",
          "name": "stderr",
          "text": [
            "FutureWarning: Support for nested sequences for 'parse_dates' in pd.read_csv is deprecated. Combine the desired columns with pd.to_datetime after parsing instead.\n",
            "FutureWarning: Support for nested sequences for 'parse_dates' in pd.read_csv is deprecated. Combine the desired columns with pd.to_datetime after parsing instead.\n",
            "FutureWarning: Support for nested sequences for 'parse_dates' in pd.read_csv is deprecated. Combine the desired columns with pd.to_datetime after parsing instead.\n",
            "FutureWarning: Support for nested sequences for 'parse_dates' in pd.read_csv is deprecated. Combine the desired columns with pd.to_datetime after parsing instead.\n",
            "FutureWarning: Support for nested sequences for 'parse_dates' in pd.read_csv is deprecated. Combine the desired columns with pd.to_datetime after parsing instead.\n"
          ]
        },
        {
          "output_type": "stream",
          "name": "stdout",
          "text": [
            "                     temp  dwpt   rhum  prcp  snow   wdir  wspd  wpgt    pres  tsun  coco\n",
            "time                                                                                     \n",
            "2021-01-01 00:00:00  11.9   9.5   85.0   NaN   NaN  180.0  18.4   NaN  1014.5   NaN  17.0\n",
            "2021-01-01 01:00:00  11.0   9.1   88.0   NaN   NaN  260.0  14.8   NaN  1014.0   NaN  17.0\n",
            "2021-01-01 02:00:00  11.0  10.1   94.0   NaN   NaN  150.0   7.6   NaN  1014.0   NaN  17.0\n",
            "2021-01-01 03:00:00  10.1   9.2   94.0   NaN   NaN  170.0   9.4   NaN  1014.6   NaN  17.0\n",
            "2021-01-01 04:00:00  11.0  10.1   94.0   NaN   NaN  220.0   7.6   NaN  1015.0   NaN  17.0\n",
            "...                   ...   ...    ...   ...   ...    ...   ...   ...     ...   ...   ...\n",
            "2024-12-31 21:00:00   2.1   1.7   97.0   0.0   NaN    0.0   0.0   NaN  1033.4   NaN   1.0\n",
            "2024-12-31 22:00:00   1.0   1.0  100.0   0.0   NaN  100.0   1.8   NaN  1032.0   NaN   5.0\n",
            "2024-12-31 23:00:00   1.0   1.0  100.0   0.0   NaN  260.0   1.8   NaN  1033.0   NaN   5.0\n",
            "2025-01-01 00:00:00   0.5   0.1   97.0   0.0   NaN  230.0   1.8   NaN  1033.4   NaN   5.0\n",
            "2025-01-01 01:00:00   1.0   0.0   93.0   0.0   NaN  190.0   1.8   NaN  1033.0   NaN   5.0\n",
            "\n",
            "[35066 rows x 11 columns]\n",
            "                     temp  dwpt   rhum  prcp  snow   wdir  wspd  wpgt    pres  tsun  coco\n",
            "time                                                                                     \n",
            "2021-01-01 00:00:00  11.9   9.5   85.0   NaN   NaN  180.0  18.4   NaN  1014.5   NaN  17.0\n",
            "2021-01-01 01:00:00  11.0   9.1   88.0   NaN   NaN  260.0  14.8   NaN  1014.0   NaN  17.0\n",
            "2021-01-01 02:00:00  11.0  10.1   94.0   NaN   NaN  150.0   7.6   NaN  1014.0   NaN  17.0\n",
            "2021-01-01 03:00:00  10.1   9.2   94.0   NaN   NaN  170.0   9.4   NaN  1014.6   NaN  17.0\n",
            "2021-01-01 04:00:00  11.0  10.1   94.0   NaN   NaN  220.0   7.6   NaN  1015.0   NaN  17.0\n",
            "...                   ...   ...    ...   ...   ...    ...   ...   ...     ...   ...   ...\n",
            "2024-12-31 21:00:00   2.1   1.7   97.0   0.0   NaN    0.0   0.0   NaN  1033.4   NaN   1.0\n",
            "2024-12-31 22:00:00   1.0   1.0  100.0   0.0   NaN  100.0   1.8   NaN  1032.0   NaN   5.0\n",
            "2024-12-31 23:00:00   1.0   1.0  100.0   0.0   NaN  260.0   1.8   NaN  1033.0   NaN   5.0\n",
            "2025-01-01 00:00:00   0.5   0.1   97.0   0.0   NaN  230.0   1.8   NaN  1033.4   NaN   5.0\n",
            "2025-01-01 01:00:00   1.0   0.0   93.0   0.0   NaN  190.0   1.8   NaN  1033.0   NaN   5.0\n",
            "\n",
            "[35066 rows x 11 columns]\n"
          ]
        }
      ]
    },
    {
      "cell_type": "markdown",
      "source": [
        "#Keşifsel Veri Analizi (Exploratory Data Analysis)"
      ],
      "metadata": {
        "id": "d0ypsPb8ZXmo"
      }
    },
    {
      "cell_type": "markdown",
      "source": [
        "##Veri Yükleme ve İnceleme"
      ],
      "metadata": {
        "id": "8bPCsm06aFPE"
      }
    },
    {
      "cell_type": "code",
      "source": [
        "import pandas as pd\n",
        "import matplotlib.pyplot as plt\n",
        "import seaborn as sns\n",
        "import numpy as np"
      ],
      "metadata": {
        "id": "cjKZ10StBoHA"
      },
      "execution_count": 47,
      "outputs": []
    },
    {
      "cell_type": "code",
      "source": [
        "import kagglehub\n",
        "from kagglehub import KaggleDatasetAdapter\n",
        "\n",
        "file_path = \"Bandirma_AQ.xlsx\"\n",
        "\n",
        "df = kagglehub.load_dataset(\n",
        "  KaggleDatasetAdapter.PANDAS,\n",
        "  \"fkarabas/bandirma-aqi-2021-2024\",\n",
        "  file_path,)\n"
      ],
      "metadata": {
        "colab": {
          "base_uri": "https://localhost:8080/"
        },
        "id": "iw1ZQFVvBHpZ",
        "outputId": "3a107aa0-a441-453e-d03d-1d646a5733f2"
      },
      "execution_count": 46,
      "outputs": [
        {
          "output_type": "stream",
          "name": "stdout",
          "text": [
            "Downloading from https://www.kaggle.com/api/v1/datasets/download/fkarabas/bandirma-aqi-2021-2024?dataset_version_number=1&file_name=Bandirma_AQ.xlsx...\n"
          ]
        },
        {
          "output_type": "stream",
          "name": "stderr",
          "text": [
            "100%|██████████| 11.3M/11.3M [00:00<00:00, 41.7MB/s]\n"
          ]
        }
      ]
    },
    {
      "cell_type": "code",
      "source": [
        "df.head()  # Varsayılan olarak ilk 5 satırı gösterir"
      ],
      "metadata": {
        "colab": {
          "base_uri": "https://localhost:8080/",
          "height": 226
        },
        "id": "XyutRGFQDgFx",
        "outputId": "87beaaf2-e835-4836-d98d-aa2dce0ac59f"
      },
      "execution_count": 48,
      "outputs": [
        {
          "output_type": "execute_result",
          "data": {
            "text/plain": [
              "   year  month  day  hour   pm10   so2    no2     o3  temp  dwpt  rhum  prcp  \\\n",
              "0  2021      1    1     0  20.08  6.94  10.22  55.56  11.9   9.5    85   0.0   \n",
              "1  2021      1    1     1  18.07  8.22  12.64  51.94  11.0   9.1    88   NaN   \n",
              "2  2021      1    1     2  26.32  5.63   7.98  66.38  11.0  10.1    94   NaN   \n",
              "3  2021      1    1     3  25.14  2.48   4.65  69.10  10.1   9.2    94   NaN   \n",
              "4  2021      1    1     4  24.23  2.08   3.49  67.40  11.0  10.1    94   NaN   \n",
              "\n",
              "    wdir  wspd    pres  \n",
              "0  180.0  18.4  1014.5  \n",
              "1  260.0  14.8  1014.0  \n",
              "2  150.0   7.6  1014.0  \n",
              "3  170.0   9.4  1014.6  \n",
              "4  220.0   7.6  1015.0  "
            ],
            "text/html": [
              "\n",
              "  <div id=\"df-fbcb0419-693a-474c-b2e1-db54d6abac79\" class=\"colab-df-container\">\n",
              "    <div>\n",
              "<style scoped>\n",
              "    .dataframe tbody tr th:only-of-type {\n",
              "        vertical-align: middle;\n",
              "    }\n",
              "\n",
              "    .dataframe tbody tr th {\n",
              "        vertical-align: top;\n",
              "    }\n",
              "\n",
              "    .dataframe thead th {\n",
              "        text-align: right;\n",
              "    }\n",
              "</style>\n",
              "<table border=\"1\" class=\"dataframe\">\n",
              "  <thead>\n",
              "    <tr style=\"text-align: right;\">\n",
              "      <th></th>\n",
              "      <th>year</th>\n",
              "      <th>month</th>\n",
              "      <th>day</th>\n",
              "      <th>hour</th>\n",
              "      <th>pm10</th>\n",
              "      <th>so2</th>\n",
              "      <th>no2</th>\n",
              "      <th>o3</th>\n",
              "      <th>temp</th>\n",
              "      <th>dwpt</th>\n",
              "      <th>rhum</th>\n",
              "      <th>prcp</th>\n",
              "      <th>wdir</th>\n",
              "      <th>wspd</th>\n",
              "      <th>pres</th>\n",
              "    </tr>\n",
              "  </thead>\n",
              "  <tbody>\n",
              "    <tr>\n",
              "      <th>0</th>\n",
              "      <td>2021</td>\n",
              "      <td>1</td>\n",
              "      <td>1</td>\n",
              "      <td>0</td>\n",
              "      <td>20.08</td>\n",
              "      <td>6.94</td>\n",
              "      <td>10.22</td>\n",
              "      <td>55.56</td>\n",
              "      <td>11.9</td>\n",
              "      <td>9.5</td>\n",
              "      <td>85</td>\n",
              "      <td>0.0</td>\n",
              "      <td>180.0</td>\n",
              "      <td>18.4</td>\n",
              "      <td>1014.5</td>\n",
              "    </tr>\n",
              "    <tr>\n",
              "      <th>1</th>\n",
              "      <td>2021</td>\n",
              "      <td>1</td>\n",
              "      <td>1</td>\n",
              "      <td>1</td>\n",
              "      <td>18.07</td>\n",
              "      <td>8.22</td>\n",
              "      <td>12.64</td>\n",
              "      <td>51.94</td>\n",
              "      <td>11.0</td>\n",
              "      <td>9.1</td>\n",
              "      <td>88</td>\n",
              "      <td>NaN</td>\n",
              "      <td>260.0</td>\n",
              "      <td>14.8</td>\n",
              "      <td>1014.0</td>\n",
              "    </tr>\n",
              "    <tr>\n",
              "      <th>2</th>\n",
              "      <td>2021</td>\n",
              "      <td>1</td>\n",
              "      <td>1</td>\n",
              "      <td>2</td>\n",
              "      <td>26.32</td>\n",
              "      <td>5.63</td>\n",
              "      <td>7.98</td>\n",
              "      <td>66.38</td>\n",
              "      <td>11.0</td>\n",
              "      <td>10.1</td>\n",
              "      <td>94</td>\n",
              "      <td>NaN</td>\n",
              "      <td>150.0</td>\n",
              "      <td>7.6</td>\n",
              "      <td>1014.0</td>\n",
              "    </tr>\n",
              "    <tr>\n",
              "      <th>3</th>\n",
              "      <td>2021</td>\n",
              "      <td>1</td>\n",
              "      <td>1</td>\n",
              "      <td>3</td>\n",
              "      <td>25.14</td>\n",
              "      <td>2.48</td>\n",
              "      <td>4.65</td>\n",
              "      <td>69.10</td>\n",
              "      <td>10.1</td>\n",
              "      <td>9.2</td>\n",
              "      <td>94</td>\n",
              "      <td>NaN</td>\n",
              "      <td>170.0</td>\n",
              "      <td>9.4</td>\n",
              "      <td>1014.6</td>\n",
              "    </tr>\n",
              "    <tr>\n",
              "      <th>4</th>\n",
              "      <td>2021</td>\n",
              "      <td>1</td>\n",
              "      <td>1</td>\n",
              "      <td>4</td>\n",
              "      <td>24.23</td>\n",
              "      <td>2.08</td>\n",
              "      <td>3.49</td>\n",
              "      <td>67.40</td>\n",
              "      <td>11.0</td>\n",
              "      <td>10.1</td>\n",
              "      <td>94</td>\n",
              "      <td>NaN</td>\n",
              "      <td>220.0</td>\n",
              "      <td>7.6</td>\n",
              "      <td>1015.0</td>\n",
              "    </tr>\n",
              "  </tbody>\n",
              "</table>\n",
              "</div>\n",
              "    <div class=\"colab-df-buttons\">\n",
              "\n",
              "  <div class=\"colab-df-container\">\n",
              "    <button class=\"colab-df-convert\" onclick=\"convertToInteractive('df-fbcb0419-693a-474c-b2e1-db54d6abac79')\"\n",
              "            title=\"Convert this dataframe to an interactive table.\"\n",
              "            style=\"display:none;\">\n",
              "\n",
              "  <svg xmlns=\"http://www.w3.org/2000/svg\" height=\"24px\" viewBox=\"0 -960 960 960\">\n",
              "    <path d=\"M120-120v-720h720v720H120Zm60-500h600v-160H180v160Zm220 220h160v-160H400v160Zm0 220h160v-160H400v160ZM180-400h160v-160H180v160Zm440 0h160v-160H620v160ZM180-180h160v-160H180v160Zm440 0h160v-160H620v160Z\"/>\n",
              "  </svg>\n",
              "    </button>\n",
              "\n",
              "  <style>\n",
              "    .colab-df-container {\n",
              "      display:flex;\n",
              "      gap: 12px;\n",
              "    }\n",
              "\n",
              "    .colab-df-convert {\n",
              "      background-color: #E8F0FE;\n",
              "      border: none;\n",
              "      border-radius: 50%;\n",
              "      cursor: pointer;\n",
              "      display: none;\n",
              "      fill: #1967D2;\n",
              "      height: 32px;\n",
              "      padding: 0 0 0 0;\n",
              "      width: 32px;\n",
              "    }\n",
              "\n",
              "    .colab-df-convert:hover {\n",
              "      background-color: #E2EBFA;\n",
              "      box-shadow: 0px 1px 2px rgba(60, 64, 67, 0.3), 0px 1px 3px 1px rgba(60, 64, 67, 0.15);\n",
              "      fill: #174EA6;\n",
              "    }\n",
              "\n",
              "    .colab-df-buttons div {\n",
              "      margin-bottom: 4px;\n",
              "    }\n",
              "\n",
              "    [theme=dark] .colab-df-convert {\n",
              "      background-color: #3B4455;\n",
              "      fill: #D2E3FC;\n",
              "    }\n",
              "\n",
              "    [theme=dark] .colab-df-convert:hover {\n",
              "      background-color: #434B5C;\n",
              "      box-shadow: 0px 1px 3px 1px rgba(0, 0, 0, 0.15);\n",
              "      filter: drop-shadow(0px 1px 2px rgba(0, 0, 0, 0.3));\n",
              "      fill: #FFFFFF;\n",
              "    }\n",
              "  </style>\n",
              "\n",
              "    <script>\n",
              "      const buttonEl =\n",
              "        document.querySelector('#df-fbcb0419-693a-474c-b2e1-db54d6abac79 button.colab-df-convert');\n",
              "      buttonEl.style.display =\n",
              "        google.colab.kernel.accessAllowed ? 'block' : 'none';\n",
              "\n",
              "      async function convertToInteractive(key) {\n",
              "        const element = document.querySelector('#df-fbcb0419-693a-474c-b2e1-db54d6abac79');\n",
              "        const dataTable =\n",
              "          await google.colab.kernel.invokeFunction('convertToInteractive',\n",
              "                                                    [key], {});\n",
              "        if (!dataTable) return;\n",
              "\n",
              "        const docLinkHtml = 'Like what you see? Visit the ' +\n",
              "          '<a target=\"_blank\" href=https://colab.research.google.com/notebooks/data_table.ipynb>data table notebook</a>'\n",
              "          + ' to learn more about interactive tables.';\n",
              "        element.innerHTML = '';\n",
              "        dataTable['output_type'] = 'display_data';\n",
              "        await google.colab.output.renderOutput(dataTable, element);\n",
              "        const docLink = document.createElement('div');\n",
              "        docLink.innerHTML = docLinkHtml;\n",
              "        element.appendChild(docLink);\n",
              "      }\n",
              "    </script>\n",
              "  </div>\n",
              "\n",
              "\n",
              "    <div id=\"df-0841e6fc-a47d-4769-90d8-c1c7e4a9cba9\">\n",
              "      <button class=\"colab-df-quickchart\" onclick=\"quickchart('df-0841e6fc-a47d-4769-90d8-c1c7e4a9cba9')\"\n",
              "                title=\"Suggest charts\"\n",
              "                style=\"display:none;\">\n",
              "\n",
              "<svg xmlns=\"http://www.w3.org/2000/svg\" height=\"24px\"viewBox=\"0 0 24 24\"\n",
              "     width=\"24px\">\n",
              "    <g>\n",
              "        <path d=\"M19 3H5c-1.1 0-2 .9-2 2v14c0 1.1.9 2 2 2h14c1.1 0 2-.9 2-2V5c0-1.1-.9-2-2-2zM9 17H7v-7h2v7zm4 0h-2V7h2v10zm4 0h-2v-4h2v4z\"/>\n",
              "    </g>\n",
              "</svg>\n",
              "      </button>\n",
              "\n",
              "<style>\n",
              "  .colab-df-quickchart {\n",
              "      --bg-color: #E8F0FE;\n",
              "      --fill-color: #1967D2;\n",
              "      --hover-bg-color: #E2EBFA;\n",
              "      --hover-fill-color: #174EA6;\n",
              "      --disabled-fill-color: #AAA;\n",
              "      --disabled-bg-color: #DDD;\n",
              "  }\n",
              "\n",
              "  [theme=dark] .colab-df-quickchart {\n",
              "      --bg-color: #3B4455;\n",
              "      --fill-color: #D2E3FC;\n",
              "      --hover-bg-color: #434B5C;\n",
              "      --hover-fill-color: #FFFFFF;\n",
              "      --disabled-bg-color: #3B4455;\n",
              "      --disabled-fill-color: #666;\n",
              "  }\n",
              "\n",
              "  .colab-df-quickchart {\n",
              "    background-color: var(--bg-color);\n",
              "    border: none;\n",
              "    border-radius: 50%;\n",
              "    cursor: pointer;\n",
              "    display: none;\n",
              "    fill: var(--fill-color);\n",
              "    height: 32px;\n",
              "    padding: 0;\n",
              "    width: 32px;\n",
              "  }\n",
              "\n",
              "  .colab-df-quickchart:hover {\n",
              "    background-color: var(--hover-bg-color);\n",
              "    box-shadow: 0 1px 2px rgba(60, 64, 67, 0.3), 0 1px 3px 1px rgba(60, 64, 67, 0.15);\n",
              "    fill: var(--button-hover-fill-color);\n",
              "  }\n",
              "\n",
              "  .colab-df-quickchart-complete:disabled,\n",
              "  .colab-df-quickchart-complete:disabled:hover {\n",
              "    background-color: var(--disabled-bg-color);\n",
              "    fill: var(--disabled-fill-color);\n",
              "    box-shadow: none;\n",
              "  }\n",
              "\n",
              "  .colab-df-spinner {\n",
              "    border: 2px solid var(--fill-color);\n",
              "    border-color: transparent;\n",
              "    border-bottom-color: var(--fill-color);\n",
              "    animation:\n",
              "      spin 1s steps(1) infinite;\n",
              "  }\n",
              "\n",
              "  @keyframes spin {\n",
              "    0% {\n",
              "      border-color: transparent;\n",
              "      border-bottom-color: var(--fill-color);\n",
              "      border-left-color: var(--fill-color);\n",
              "    }\n",
              "    20% {\n",
              "      border-color: transparent;\n",
              "      border-left-color: var(--fill-color);\n",
              "      border-top-color: var(--fill-color);\n",
              "    }\n",
              "    30% {\n",
              "      border-color: transparent;\n",
              "      border-left-color: var(--fill-color);\n",
              "      border-top-color: var(--fill-color);\n",
              "      border-right-color: var(--fill-color);\n",
              "    }\n",
              "    40% {\n",
              "      border-color: transparent;\n",
              "      border-right-color: var(--fill-color);\n",
              "      border-top-color: var(--fill-color);\n",
              "    }\n",
              "    60% {\n",
              "      border-color: transparent;\n",
              "      border-right-color: var(--fill-color);\n",
              "    }\n",
              "    80% {\n",
              "      border-color: transparent;\n",
              "      border-right-color: var(--fill-color);\n",
              "      border-bottom-color: var(--fill-color);\n",
              "    }\n",
              "    90% {\n",
              "      border-color: transparent;\n",
              "      border-bottom-color: var(--fill-color);\n",
              "    }\n",
              "  }\n",
              "</style>\n",
              "\n",
              "      <script>\n",
              "        async function quickchart(key) {\n",
              "          const quickchartButtonEl =\n",
              "            document.querySelector('#' + key + ' button');\n",
              "          quickchartButtonEl.disabled = true;  // To prevent multiple clicks.\n",
              "          quickchartButtonEl.classList.add('colab-df-spinner');\n",
              "          try {\n",
              "            const charts = await google.colab.kernel.invokeFunction(\n",
              "                'suggestCharts', [key], {});\n",
              "          } catch (error) {\n",
              "            console.error('Error during call to suggestCharts:', error);\n",
              "          }\n",
              "          quickchartButtonEl.classList.remove('colab-df-spinner');\n",
              "          quickchartButtonEl.classList.add('colab-df-quickchart-complete');\n",
              "        }\n",
              "        (() => {\n",
              "          let quickchartButtonEl =\n",
              "            document.querySelector('#df-0841e6fc-a47d-4769-90d8-c1c7e4a9cba9 button');\n",
              "          quickchartButtonEl.style.display =\n",
              "            google.colab.kernel.accessAllowed ? 'block' : 'none';\n",
              "        })();\n",
              "      </script>\n",
              "    </div>\n",
              "\n",
              "    </div>\n",
              "  </div>\n"
            ],
            "application/vnd.google.colaboratory.intrinsic+json": {
              "type": "dataframe",
              "variable_name": "df",
              "summary": "{\n  \"name\": \"df\",\n  \"rows\": 35064,\n  \"fields\": [\n    {\n      \"column\": \"year\",\n      \"properties\": {\n        \"dtype\": \"number\",\n        \"std\": 1,\n        \"min\": 2021,\n        \"max\": 2024,\n        \"num_unique_values\": 4,\n        \"samples\": [\n          2022,\n          2024,\n          2021\n        ],\n        \"semantic_type\": \"\",\n        \"description\": \"\"\n      }\n    },\n    {\n      \"column\": \"month\",\n      \"properties\": {\n        \"dtype\": \"number\",\n        \"std\": 3,\n        \"min\": 1,\n        \"max\": 12,\n        \"num_unique_values\": 12,\n        \"samples\": [\n          11,\n          10,\n          1\n        ],\n        \"semantic_type\": \"\",\n        \"description\": \"\"\n      }\n    },\n    {\n      \"column\": \"day\",\n      \"properties\": {\n        \"dtype\": \"number\",\n        \"std\": 8,\n        \"min\": 1,\n        \"max\": 31,\n        \"num_unique_values\": 31,\n        \"samples\": [\n          28,\n          16,\n          24\n        ],\n        \"semantic_type\": \"\",\n        \"description\": \"\"\n      }\n    },\n    {\n      \"column\": \"hour\",\n      \"properties\": {\n        \"dtype\": \"number\",\n        \"std\": 6,\n        \"min\": 0,\n        \"max\": 23,\n        \"num_unique_values\": 24,\n        \"samples\": [\n          8,\n          16,\n          0\n        ],\n        \"semantic_type\": \"\",\n        \"description\": \"\"\n      }\n    },\n    {\n      \"column\": \"pm10\",\n      \"properties\": {\n        \"dtype\": \"number\",\n        \"std\": 25.314861299454183,\n        \"min\": 0.31,\n        \"max\": 320.89,\n        \"num_unique_values\": 8934,\n        \"samples\": [\n          81.18,\n          17.97,\n          45.81\n        ],\n        \"semantic_type\": \"\",\n        \"description\": \"\"\n      }\n    },\n    {\n      \"column\": \"so2\",\n      \"properties\": {\n        \"dtype\": \"number\",\n        \"std\": 7.441089673642209,\n        \"min\": 0.0,\n        \"max\": 209.86,\n        \"num_unique_values\": 3184,\n        \"samples\": [\n          5.75,\n          10.1,\n          10.98\n        ],\n        \"semantic_type\": \"\",\n        \"description\": \"\"\n      }\n    },\n    {\n      \"column\": \"no2\",\n      \"properties\": {\n        \"dtype\": \"number\",\n        \"std\": 20.415370493021157,\n        \"min\": 0.38,\n        \"max\": 178.03,\n        \"num_unique_values\": 7854,\n        \"samples\": [\n          81.23,\n          68.26,\n          70.53\n        ],\n        \"semantic_type\": \"\",\n        \"description\": \"\"\n      }\n    },\n    {\n      \"column\": \"o3\",\n      \"properties\": {\n        \"dtype\": \"number\",\n        \"std\": 30.292366825946583,\n        \"min\": 1.28,\n        \"max\": 192.34,\n        \"num_unique_values\": 9691,\n        \"samples\": [\n          78.03,\n          66.65,\n          4.56\n        ],\n        \"semantic_type\": \"\",\n        \"description\": \"\"\n      }\n    },\n    {\n      \"column\": \"temp\",\n      \"properties\": {\n        \"dtype\": \"number\",\n        \"std\": 8.121103101508746,\n        \"min\": -8.3,\n        \"max\": 43.0,\n        \"num_unique_values\": 404,\n        \"samples\": [\n          20.0,\n          -1.7,\n          28.8\n        ],\n        \"semantic_type\": \"\",\n        \"description\": \"\"\n      }\n    },\n    {\n      \"column\": \"dwpt\",\n      \"properties\": {\n        \"dtype\": \"number\",\n        \"std\": 6.541018749820498,\n        \"min\": -9.5,\n        \"max\": 27.0,\n        \"num_unique_values\": 345,\n        \"samples\": [\n          1.7,\n          7.2,\n          18.4\n        ],\n        \"semantic_type\": \"\",\n        \"description\": \"\"\n      }\n    },\n    {\n      \"column\": \"rhum\",\n      \"properties\": {\n        \"dtype\": \"number\",\n        \"std\": 16,\n        \"min\": 13,\n        \"max\": 100,\n        \"num_unique_values\": 86,\n        \"samples\": [\n          23,\n          85,\n          20\n        ],\n        \"semantic_type\": \"\",\n        \"description\": \"\"\n      }\n    },\n    {\n      \"column\": \"prcp\",\n      \"properties\": {\n        \"dtype\": \"number\",\n        \"std\": 0.38372539339353046,\n        \"min\": 0.0,\n        \"max\": 11.7,\n        \"num_unique_values\": 75,\n        \"samples\": [\n          0.4,\n          10.0,\n          1.6\n        ],\n        \"semantic_type\": \"\",\n        \"description\": \"\"\n      }\n    },\n    {\n      \"column\": \"wdir\",\n      \"properties\": {\n        \"dtype\": \"number\",\n        \"std\": 115.66354542007365,\n        \"min\": 0.0,\n        \"max\": 360.0,\n        \"num_unique_values\": 352,\n        \"samples\": [\n          71.0,\n          34.0,\n          206.0\n        ],\n        \"semantic_type\": \"\",\n        \"description\": \"\"\n      }\n    },\n    {\n      \"column\": \"wspd\",\n      \"properties\": {\n        \"dtype\": \"number\",\n        \"std\": 11.481866378425307,\n        \"min\": 0.0,\n        \"max\": 74.2,\n        \"num_unique_values\": 143,\n        \"samples\": [\n          15.1,\n          37.1,\n          48.2\n        ],\n        \"semantic_type\": \"\",\n        \"description\": \"\"\n      }\n    },\n    {\n      \"column\": \"pres\",\n      \"properties\": {\n        \"dtype\": \"number\",\n        \"std\": 6.416063064391182,\n        \"min\": 980.0,\n        \"max\": 1038.2,\n        \"num_unique_values\": 423,\n        \"samples\": [\n          1027.7,\n          1032.3,\n          1007.6\n        ],\n        \"semantic_type\": \"\",\n        \"description\": \"\"\n      }\n    }\n  ]\n}"
            }
          },
          "metadata": {},
          "execution_count": 48
        }
      ]
    },
    {
      "cell_type": "code",
      "source": [
        "df.shape  # (satır sayısı, sütun sayısı)"
      ],
      "metadata": {
        "colab": {
          "base_uri": "https://localhost:8080/"
        },
        "id": "2WmciVkBDqRb",
        "outputId": "6e4953a6-1c3f-4541-d7fb-8fb1d70feb88"
      },
      "execution_count": 39,
      "outputs": [
        {
          "output_type": "execute_result",
          "data": {
            "text/plain": [
              "(35064, 15)"
            ]
          },
          "metadata": {},
          "execution_count": 39
        }
      ]
    },
    {
      "cell_type": "code",
      "source": [
        "df.sample(6)  # Rastgele belirlenen sayıda satırı gösterir"
      ],
      "metadata": {
        "colab": {
          "base_uri": "https://localhost:8080/",
          "height": 257
        },
        "id": "V5X4yi8iDoEH",
        "outputId": "841f44d0-ed2d-43ec-b9d0-ea5969502e70"
      },
      "execution_count": 50,
      "outputs": [
        {
          "output_type": "execute_result",
          "data": {
            "text/plain": [
              "       year  month  day  hour   pm10    so2    no2      o3  temp  dwpt  rhum  \\\n",
              "28794  2024      4   14    18  21.94   0.48  23.63   92.23  12.7   9.0    78   \n",
              "15759  2022     10   19    15  31.10   8.28  45.17   27.66  16.7  15.1    90   \n",
              "33641  2024     11    2    17  49.22  15.90  28.65   57.24  13.0  11.1    88   \n",
              "29426  2024      5   11     2  31.13   7.31   9.21  102.21  14.0  11.0    82   \n",
              "34996  2024     12   29     4   9.10   8.06   8.05   56.10   7.0   7.0   100   \n",
              "2581   2021      4   18    13  53.52   4.12  10.77   62.80  13.0  10.0    82   \n",
              "\n",
              "       prcp   wdir  wspd    pres  \n",
              "28794   0.0    0.0   0.0  1021.7  \n",
              "15759   0.0   60.0  14.8  1016.6  \n",
              "33641   0.0  330.0   3.6  1018.0  \n",
              "29426   0.4   40.0  33.5  1010.0  \n",
              "34996   0.4   10.0  38.9  1021.0  \n",
              "2581    0.0  330.0  13.0  1013.0  "
            ],
            "text/html": [
              "\n",
              "  <div id=\"df-a7fc0b06-db66-404d-b1a9-dedfed0e4de6\" class=\"colab-df-container\">\n",
              "    <div>\n",
              "<style scoped>\n",
              "    .dataframe tbody tr th:only-of-type {\n",
              "        vertical-align: middle;\n",
              "    }\n",
              "\n",
              "    .dataframe tbody tr th {\n",
              "        vertical-align: top;\n",
              "    }\n",
              "\n",
              "    .dataframe thead th {\n",
              "        text-align: right;\n",
              "    }\n",
              "</style>\n",
              "<table border=\"1\" class=\"dataframe\">\n",
              "  <thead>\n",
              "    <tr style=\"text-align: right;\">\n",
              "      <th></th>\n",
              "      <th>year</th>\n",
              "      <th>month</th>\n",
              "      <th>day</th>\n",
              "      <th>hour</th>\n",
              "      <th>pm10</th>\n",
              "      <th>so2</th>\n",
              "      <th>no2</th>\n",
              "      <th>o3</th>\n",
              "      <th>temp</th>\n",
              "      <th>dwpt</th>\n",
              "      <th>rhum</th>\n",
              "      <th>prcp</th>\n",
              "      <th>wdir</th>\n",
              "      <th>wspd</th>\n",
              "      <th>pres</th>\n",
              "    </tr>\n",
              "  </thead>\n",
              "  <tbody>\n",
              "    <tr>\n",
              "      <th>28794</th>\n",
              "      <td>2024</td>\n",
              "      <td>4</td>\n",
              "      <td>14</td>\n",
              "      <td>18</td>\n",
              "      <td>21.94</td>\n",
              "      <td>0.48</td>\n",
              "      <td>23.63</td>\n",
              "      <td>92.23</td>\n",
              "      <td>12.7</td>\n",
              "      <td>9.0</td>\n",
              "      <td>78</td>\n",
              "      <td>0.0</td>\n",
              "      <td>0.0</td>\n",
              "      <td>0.0</td>\n",
              "      <td>1021.7</td>\n",
              "    </tr>\n",
              "    <tr>\n",
              "      <th>15759</th>\n",
              "      <td>2022</td>\n",
              "      <td>10</td>\n",
              "      <td>19</td>\n",
              "      <td>15</td>\n",
              "      <td>31.10</td>\n",
              "      <td>8.28</td>\n",
              "      <td>45.17</td>\n",
              "      <td>27.66</td>\n",
              "      <td>16.7</td>\n",
              "      <td>15.1</td>\n",
              "      <td>90</td>\n",
              "      <td>0.0</td>\n",
              "      <td>60.0</td>\n",
              "      <td>14.8</td>\n",
              "      <td>1016.6</td>\n",
              "    </tr>\n",
              "    <tr>\n",
              "      <th>33641</th>\n",
              "      <td>2024</td>\n",
              "      <td>11</td>\n",
              "      <td>2</td>\n",
              "      <td>17</td>\n",
              "      <td>49.22</td>\n",
              "      <td>15.90</td>\n",
              "      <td>28.65</td>\n",
              "      <td>57.24</td>\n",
              "      <td>13.0</td>\n",
              "      <td>11.1</td>\n",
              "      <td>88</td>\n",
              "      <td>0.0</td>\n",
              "      <td>330.0</td>\n",
              "      <td>3.6</td>\n",
              "      <td>1018.0</td>\n",
              "    </tr>\n",
              "    <tr>\n",
              "      <th>29426</th>\n",
              "      <td>2024</td>\n",
              "      <td>5</td>\n",
              "      <td>11</td>\n",
              "      <td>2</td>\n",
              "      <td>31.13</td>\n",
              "      <td>7.31</td>\n",
              "      <td>9.21</td>\n",
              "      <td>102.21</td>\n",
              "      <td>14.0</td>\n",
              "      <td>11.0</td>\n",
              "      <td>82</td>\n",
              "      <td>0.4</td>\n",
              "      <td>40.0</td>\n",
              "      <td>33.5</td>\n",
              "      <td>1010.0</td>\n",
              "    </tr>\n",
              "    <tr>\n",
              "      <th>34996</th>\n",
              "      <td>2024</td>\n",
              "      <td>12</td>\n",
              "      <td>29</td>\n",
              "      <td>4</td>\n",
              "      <td>9.10</td>\n",
              "      <td>8.06</td>\n",
              "      <td>8.05</td>\n",
              "      <td>56.10</td>\n",
              "      <td>7.0</td>\n",
              "      <td>7.0</td>\n",
              "      <td>100</td>\n",
              "      <td>0.4</td>\n",
              "      <td>10.0</td>\n",
              "      <td>38.9</td>\n",
              "      <td>1021.0</td>\n",
              "    </tr>\n",
              "    <tr>\n",
              "      <th>2581</th>\n",
              "      <td>2021</td>\n",
              "      <td>4</td>\n",
              "      <td>18</td>\n",
              "      <td>13</td>\n",
              "      <td>53.52</td>\n",
              "      <td>4.12</td>\n",
              "      <td>10.77</td>\n",
              "      <td>62.80</td>\n",
              "      <td>13.0</td>\n",
              "      <td>10.0</td>\n",
              "      <td>82</td>\n",
              "      <td>0.0</td>\n",
              "      <td>330.0</td>\n",
              "      <td>13.0</td>\n",
              "      <td>1013.0</td>\n",
              "    </tr>\n",
              "  </tbody>\n",
              "</table>\n",
              "</div>\n",
              "    <div class=\"colab-df-buttons\">\n",
              "\n",
              "  <div class=\"colab-df-container\">\n",
              "    <button class=\"colab-df-convert\" onclick=\"convertToInteractive('df-a7fc0b06-db66-404d-b1a9-dedfed0e4de6')\"\n",
              "            title=\"Convert this dataframe to an interactive table.\"\n",
              "            style=\"display:none;\">\n",
              "\n",
              "  <svg xmlns=\"http://www.w3.org/2000/svg\" height=\"24px\" viewBox=\"0 -960 960 960\">\n",
              "    <path d=\"M120-120v-720h720v720H120Zm60-500h600v-160H180v160Zm220 220h160v-160H400v160Zm0 220h160v-160H400v160ZM180-400h160v-160H180v160Zm440 0h160v-160H620v160ZM180-180h160v-160H180v160Zm440 0h160v-160H620v160Z\"/>\n",
              "  </svg>\n",
              "    </button>\n",
              "\n",
              "  <style>\n",
              "    .colab-df-container {\n",
              "      display:flex;\n",
              "      gap: 12px;\n",
              "    }\n",
              "\n",
              "    .colab-df-convert {\n",
              "      background-color: #E8F0FE;\n",
              "      border: none;\n",
              "      border-radius: 50%;\n",
              "      cursor: pointer;\n",
              "      display: none;\n",
              "      fill: #1967D2;\n",
              "      height: 32px;\n",
              "      padding: 0 0 0 0;\n",
              "      width: 32px;\n",
              "    }\n",
              "\n",
              "    .colab-df-convert:hover {\n",
              "      background-color: #E2EBFA;\n",
              "      box-shadow: 0px 1px 2px rgba(60, 64, 67, 0.3), 0px 1px 3px 1px rgba(60, 64, 67, 0.15);\n",
              "      fill: #174EA6;\n",
              "    }\n",
              "\n",
              "    .colab-df-buttons div {\n",
              "      margin-bottom: 4px;\n",
              "    }\n",
              "\n",
              "    [theme=dark] .colab-df-convert {\n",
              "      background-color: #3B4455;\n",
              "      fill: #D2E3FC;\n",
              "    }\n",
              "\n",
              "    [theme=dark] .colab-df-convert:hover {\n",
              "      background-color: #434B5C;\n",
              "      box-shadow: 0px 1px 3px 1px rgba(0, 0, 0, 0.15);\n",
              "      filter: drop-shadow(0px 1px 2px rgba(0, 0, 0, 0.3));\n",
              "      fill: #FFFFFF;\n",
              "    }\n",
              "  </style>\n",
              "\n",
              "    <script>\n",
              "      const buttonEl =\n",
              "        document.querySelector('#df-a7fc0b06-db66-404d-b1a9-dedfed0e4de6 button.colab-df-convert');\n",
              "      buttonEl.style.display =\n",
              "        google.colab.kernel.accessAllowed ? 'block' : 'none';\n",
              "\n",
              "      async function convertToInteractive(key) {\n",
              "        const element = document.querySelector('#df-a7fc0b06-db66-404d-b1a9-dedfed0e4de6');\n",
              "        const dataTable =\n",
              "          await google.colab.kernel.invokeFunction('convertToInteractive',\n",
              "                                                    [key], {});\n",
              "        if (!dataTable) return;\n",
              "\n",
              "        const docLinkHtml = 'Like what you see? Visit the ' +\n",
              "          '<a target=\"_blank\" href=https://colab.research.google.com/notebooks/data_table.ipynb>data table notebook</a>'\n",
              "          + ' to learn more about interactive tables.';\n",
              "        element.innerHTML = '';\n",
              "        dataTable['output_type'] = 'display_data';\n",
              "        await google.colab.output.renderOutput(dataTable, element);\n",
              "        const docLink = document.createElement('div');\n",
              "        docLink.innerHTML = docLinkHtml;\n",
              "        element.appendChild(docLink);\n",
              "      }\n",
              "    </script>\n",
              "  </div>\n",
              "\n",
              "\n",
              "    <div id=\"df-6d48e2f8-f107-4128-b8fd-249468a3a43b\">\n",
              "      <button class=\"colab-df-quickchart\" onclick=\"quickchart('df-6d48e2f8-f107-4128-b8fd-249468a3a43b')\"\n",
              "                title=\"Suggest charts\"\n",
              "                style=\"display:none;\">\n",
              "\n",
              "<svg xmlns=\"http://www.w3.org/2000/svg\" height=\"24px\"viewBox=\"0 0 24 24\"\n",
              "     width=\"24px\">\n",
              "    <g>\n",
              "        <path d=\"M19 3H5c-1.1 0-2 .9-2 2v14c0 1.1.9 2 2 2h14c1.1 0 2-.9 2-2V5c0-1.1-.9-2-2-2zM9 17H7v-7h2v7zm4 0h-2V7h2v10zm4 0h-2v-4h2v4z\"/>\n",
              "    </g>\n",
              "</svg>\n",
              "      </button>\n",
              "\n",
              "<style>\n",
              "  .colab-df-quickchart {\n",
              "      --bg-color: #E8F0FE;\n",
              "      --fill-color: #1967D2;\n",
              "      --hover-bg-color: #E2EBFA;\n",
              "      --hover-fill-color: #174EA6;\n",
              "      --disabled-fill-color: #AAA;\n",
              "      --disabled-bg-color: #DDD;\n",
              "  }\n",
              "\n",
              "  [theme=dark] .colab-df-quickchart {\n",
              "      --bg-color: #3B4455;\n",
              "      --fill-color: #D2E3FC;\n",
              "      --hover-bg-color: #434B5C;\n",
              "      --hover-fill-color: #FFFFFF;\n",
              "      --disabled-bg-color: #3B4455;\n",
              "      --disabled-fill-color: #666;\n",
              "  }\n",
              "\n",
              "  .colab-df-quickchart {\n",
              "    background-color: var(--bg-color);\n",
              "    border: none;\n",
              "    border-radius: 50%;\n",
              "    cursor: pointer;\n",
              "    display: none;\n",
              "    fill: var(--fill-color);\n",
              "    height: 32px;\n",
              "    padding: 0;\n",
              "    width: 32px;\n",
              "  }\n",
              "\n",
              "  .colab-df-quickchart:hover {\n",
              "    background-color: var(--hover-bg-color);\n",
              "    box-shadow: 0 1px 2px rgba(60, 64, 67, 0.3), 0 1px 3px 1px rgba(60, 64, 67, 0.15);\n",
              "    fill: var(--button-hover-fill-color);\n",
              "  }\n",
              "\n",
              "  .colab-df-quickchart-complete:disabled,\n",
              "  .colab-df-quickchart-complete:disabled:hover {\n",
              "    background-color: var(--disabled-bg-color);\n",
              "    fill: var(--disabled-fill-color);\n",
              "    box-shadow: none;\n",
              "  }\n",
              "\n",
              "  .colab-df-spinner {\n",
              "    border: 2px solid var(--fill-color);\n",
              "    border-color: transparent;\n",
              "    border-bottom-color: var(--fill-color);\n",
              "    animation:\n",
              "      spin 1s steps(1) infinite;\n",
              "  }\n",
              "\n",
              "  @keyframes spin {\n",
              "    0% {\n",
              "      border-color: transparent;\n",
              "      border-bottom-color: var(--fill-color);\n",
              "      border-left-color: var(--fill-color);\n",
              "    }\n",
              "    20% {\n",
              "      border-color: transparent;\n",
              "      border-left-color: var(--fill-color);\n",
              "      border-top-color: var(--fill-color);\n",
              "    }\n",
              "    30% {\n",
              "      border-color: transparent;\n",
              "      border-left-color: var(--fill-color);\n",
              "      border-top-color: var(--fill-color);\n",
              "      border-right-color: var(--fill-color);\n",
              "    }\n",
              "    40% {\n",
              "      border-color: transparent;\n",
              "      border-right-color: var(--fill-color);\n",
              "      border-top-color: var(--fill-color);\n",
              "    }\n",
              "    60% {\n",
              "      border-color: transparent;\n",
              "      border-right-color: var(--fill-color);\n",
              "    }\n",
              "    80% {\n",
              "      border-color: transparent;\n",
              "      border-right-color: var(--fill-color);\n",
              "      border-bottom-color: var(--fill-color);\n",
              "    }\n",
              "    90% {\n",
              "      border-color: transparent;\n",
              "      border-bottom-color: var(--fill-color);\n",
              "    }\n",
              "  }\n",
              "</style>\n",
              "\n",
              "      <script>\n",
              "        async function quickchart(key) {\n",
              "          const quickchartButtonEl =\n",
              "            document.querySelector('#' + key + ' button');\n",
              "          quickchartButtonEl.disabled = true;  // To prevent multiple clicks.\n",
              "          quickchartButtonEl.classList.add('colab-df-spinner');\n",
              "          try {\n",
              "            const charts = await google.colab.kernel.invokeFunction(\n",
              "                'suggestCharts', [key], {});\n",
              "          } catch (error) {\n",
              "            console.error('Error during call to suggestCharts:', error);\n",
              "          }\n",
              "          quickchartButtonEl.classList.remove('colab-df-spinner');\n",
              "          quickchartButtonEl.classList.add('colab-df-quickchart-complete');\n",
              "        }\n",
              "        (() => {\n",
              "          let quickchartButtonEl =\n",
              "            document.querySelector('#df-6d48e2f8-f107-4128-b8fd-249468a3a43b button');\n",
              "          quickchartButtonEl.style.display =\n",
              "            google.colab.kernel.accessAllowed ? 'block' : 'none';\n",
              "        })();\n",
              "      </script>\n",
              "    </div>\n",
              "\n",
              "    </div>\n",
              "  </div>\n"
            ],
            "application/vnd.google.colaboratory.intrinsic+json": {
              "type": "dataframe",
              "summary": "{\n  \"name\": \"df\",\n  \"rows\": 6,\n  \"fields\": [\n    {\n      \"column\": \"year\",\n      \"properties\": {\n        \"dtype\": \"number\",\n        \"std\": 1,\n        \"min\": 2021,\n        \"max\": 2024,\n        \"num_unique_values\": 3,\n        \"samples\": [\n          2024,\n          2022,\n          2021\n        ],\n        \"semantic_type\": \"\",\n        \"description\": \"\"\n      }\n    },\n    {\n      \"column\": \"month\",\n      \"properties\": {\n        \"dtype\": \"number\",\n        \"std\": 3,\n        \"min\": 4,\n        \"max\": 12,\n        \"num_unique_values\": 5,\n        \"samples\": [\n          10,\n          12,\n          11\n        ],\n        \"semantic_type\": \"\",\n        \"description\": \"\"\n      }\n    },\n    {\n      \"column\": \"day\",\n      \"properties\": {\n        \"dtype\": \"number\",\n        \"std\": 9,\n        \"min\": 2,\n        \"max\": 29,\n        \"num_unique_values\": 6,\n        \"samples\": [\n          14,\n          19,\n          18\n        ],\n        \"semantic_type\": \"\",\n        \"description\": \"\"\n      }\n    },\n    {\n      \"column\": \"hour\",\n      \"properties\": {\n        \"dtype\": \"number\",\n        \"std\": 6,\n        \"min\": 2,\n        \"max\": 18,\n        \"num_unique_values\": 6,\n        \"samples\": [\n          18,\n          15,\n          13\n        ],\n        \"semantic_type\": \"\",\n        \"description\": \"\"\n      }\n    },\n    {\n      \"column\": \"pm10\",\n      \"properties\": {\n        \"dtype\": \"number\",\n        \"std\": 16.63814462813287,\n        \"min\": 9.1,\n        \"max\": 53.52,\n        \"num_unique_values\": 6,\n        \"samples\": [\n          21.94,\n          31.1,\n          53.52\n        ],\n        \"semantic_type\": \"\",\n        \"description\": \"\"\n      }\n    },\n    {\n      \"column\": \"so2\",\n      \"properties\": {\n        \"dtype\": \"number\",\n        \"std\": 5.140087223643843,\n        \"min\": 0.48,\n        \"max\": 15.9,\n        \"num_unique_values\": 6,\n        \"samples\": [\n          0.48,\n          8.28,\n          4.12\n        ],\n        \"semantic_type\": \"\",\n        \"description\": \"\"\n      }\n    },\n    {\n      \"column\": \"no2\",\n      \"properties\": {\n        \"dtype\": \"number\",\n        \"std\": 14.566693058709882,\n        \"min\": 8.05,\n        \"max\": 45.17,\n        \"num_unique_values\": 6,\n        \"samples\": [\n          23.63,\n          45.17,\n          10.77\n        ],\n        \"semantic_type\": \"\",\n        \"description\": \"\"\n      }\n    },\n    {\n      \"column\": \"o3\",\n      \"properties\": {\n        \"dtype\": \"number\",\n        \"std\": 27.030663822160687,\n        \"min\": 27.66,\n        \"max\": 102.21,\n        \"num_unique_values\": 6,\n        \"samples\": [\n          92.23,\n          27.66,\n          62.8\n        ],\n        \"semantic_type\": \"\",\n        \"description\": \"\"\n      }\n    },\n    {\n      \"column\": \"temp\",\n      \"properties\": {\n        \"dtype\": \"number\",\n        \"std\": 3.1734313710346194,\n        \"min\": 7.0,\n        \"max\": 16.7,\n        \"num_unique_values\": 5,\n        \"samples\": [\n          16.7,\n          7.0,\n          13.0\n        ],\n        \"semantic_type\": \"\",\n        \"description\": \"\"\n      }\n    },\n    {\n      \"column\": \"dwpt\",\n      \"properties\": {\n        \"dtype\": \"number\",\n        \"std\": 2.702344660968816,\n        \"min\": 7.0,\n        \"max\": 15.1,\n        \"num_unique_values\": 6,\n        \"samples\": [\n          9.0,\n          15.1,\n          10.0\n        ],\n        \"semantic_type\": \"\",\n        \"description\": \"\"\n      }\n    },\n    {\n      \"column\": \"rhum\",\n      \"properties\": {\n        \"dtype\": \"number\",\n        \"std\": 7,\n        \"min\": 78,\n        \"max\": 100,\n        \"num_unique_values\": 5,\n        \"samples\": [\n          90,\n          100,\n          88\n        ],\n        \"semantic_type\": \"\",\n        \"description\": \"\"\n      }\n    },\n    {\n      \"column\": \"prcp\",\n      \"properties\": {\n        \"dtype\": \"number\",\n        \"std\": 0.2065591117977289,\n        \"min\": 0.0,\n        \"max\": 0.4,\n        \"num_unique_values\": 2,\n        \"samples\": [\n          0.4,\n          0.0\n        ],\n        \"semantic_type\": \"\",\n        \"description\": \"\"\n      }\n    },\n    {\n      \"column\": \"wdir\",\n      \"properties\": {\n        \"dtype\": \"number\",\n        \"std\": 157.65997166898978,\n        \"min\": 0.0,\n        \"max\": 330.0,\n        \"num_unique_values\": 5,\n        \"samples\": [\n          60.0,\n          10.0\n        ],\n        \"semantic_type\": \"\",\n        \"description\": \"\"\n      }\n    },\n    {\n      \"column\": \"wspd\",\n      \"properties\": {\n        \"dtype\": \"number\",\n        \"std\": 15.752587089110158,\n        \"min\": 0.0,\n        \"max\": 38.9,\n        \"num_unique_values\": 6,\n        \"samples\": [\n          0.0,\n          14.8\n        ],\n        \"semantic_type\": \"\",\n        \"description\": \"\"\n      }\n    },\n    {\n      \"column\": \"pres\",\n      \"properties\": {\n        \"dtype\": \"number\",\n        \"std\": 4.555619240747273,\n        \"min\": 1010.0,\n        \"max\": 1021.7,\n        \"num_unique_values\": 6,\n        \"samples\": [\n          1021.7,\n          1016.6\n        ],\n        \"semantic_type\": \"\",\n        \"description\": \"\"\n      }\n    }\n  ]\n}"
            }
          },
          "metadata": {},
          "execution_count": 50
        }
      ]
    },
    {
      "cell_type": "code",
      "source": [
        "df.info()  # Veri tipi ve eksik değerleri gösterir"
      ],
      "metadata": {
        "colab": {
          "base_uri": "https://localhost:8080/"
        },
        "id": "Fp0RVgpOF6EH",
        "outputId": "9b3c09d4-ac6f-4a1f-dd77-9389f9bff1fc"
      },
      "execution_count": 51,
      "outputs": [
        {
          "output_type": "stream",
          "name": "stdout",
          "text": [
            "<class 'pandas.core.frame.DataFrame'>\n",
            "RangeIndex: 35064 entries, 0 to 35063\n",
            "Data columns (total 15 columns):\n",
            " #   Column  Non-Null Count  Dtype  \n",
            "---  ------  --------------  -----  \n",
            " 0   year    35064 non-null  int64  \n",
            " 1   month   35064 non-null  int64  \n",
            " 2   day     35064 non-null  int64  \n",
            " 3   hour    35064 non-null  int64  \n",
            " 4   pm10    32366 non-null  float64\n",
            " 5   so2     33940 non-null  float64\n",
            " 6   no2     33945 non-null  float64\n",
            " 7   o3      22884 non-null  float64\n",
            " 8   temp    35064 non-null  float64\n",
            " 9   dwpt    35064 non-null  float64\n",
            " 10  rhum    35064 non-null  int64  \n",
            " 11  prcp    34778 non-null  float64\n",
            " 12  wdir    35035 non-null  float64\n",
            " 13  wspd    35064 non-null  float64\n",
            " 14  pres    34902 non-null  float64\n",
            "dtypes: float64(10), int64(5)\n",
            "memory usage: 4.0 MB\n"
          ]
        }
      ]
    },
    {
      "cell_type": "markdown",
      "source": [
        "10.satırda [rhum] sütun değerleriniveri tipi \"int64\" olarak gelmiş bunu \"float64\" olarak değiştiryorum."
      ],
      "metadata": {
        "id": "iXpNCJ4uInhb"
      }
    },
    {
      "cell_type": "code",
      "source": [
        "df['rhum'] = df['rhum'].astype('float64')"
      ],
      "metadata": {
        "id": "rad3rWscIoiE"
      },
      "execution_count": 53,
      "outputs": []
    },
    {
      "cell_type": "code",
      "source": [
        "df.dtypes"
      ],
      "metadata": {
        "colab": {
          "base_uri": "https://localhost:8080/",
          "height": 554
        },
        "id": "PLzkrS_UJBSk",
        "outputId": "a85f0b6d-dd89-4d10-bf79-028e9541478d"
      },
      "execution_count": 54,
      "outputs": [
        {
          "output_type": "execute_result",
          "data": {
            "text/plain": [
              "year       int64\n",
              "month      int64\n",
              "day        int64\n",
              "hour       int64\n",
              "pm10     float64\n",
              "so2      float64\n",
              "no2      float64\n",
              "o3       float64\n",
              "temp     float64\n",
              "dwpt     float64\n",
              "rhum     float64\n",
              "prcp     float64\n",
              "wdir     float64\n",
              "wspd     float64\n",
              "pres     float64\n",
              "dtype: object"
            ],
            "text/html": [
              "<div>\n",
              "<style scoped>\n",
              "    .dataframe tbody tr th:only-of-type {\n",
              "        vertical-align: middle;\n",
              "    }\n",
              "\n",
              "    .dataframe tbody tr th {\n",
              "        vertical-align: top;\n",
              "    }\n",
              "\n",
              "    .dataframe thead th {\n",
              "        text-align: right;\n",
              "    }\n",
              "</style>\n",
              "<table border=\"1\" class=\"dataframe\">\n",
              "  <thead>\n",
              "    <tr style=\"text-align: right;\">\n",
              "      <th></th>\n",
              "      <th>0</th>\n",
              "    </tr>\n",
              "  </thead>\n",
              "  <tbody>\n",
              "    <tr>\n",
              "      <th>year</th>\n",
              "      <td>int64</td>\n",
              "    </tr>\n",
              "    <tr>\n",
              "      <th>month</th>\n",
              "      <td>int64</td>\n",
              "    </tr>\n",
              "    <tr>\n",
              "      <th>day</th>\n",
              "      <td>int64</td>\n",
              "    </tr>\n",
              "    <tr>\n",
              "      <th>hour</th>\n",
              "      <td>int64</td>\n",
              "    </tr>\n",
              "    <tr>\n",
              "      <th>pm10</th>\n",
              "      <td>float64</td>\n",
              "    </tr>\n",
              "    <tr>\n",
              "      <th>so2</th>\n",
              "      <td>float64</td>\n",
              "    </tr>\n",
              "    <tr>\n",
              "      <th>no2</th>\n",
              "      <td>float64</td>\n",
              "    </tr>\n",
              "    <tr>\n",
              "      <th>o3</th>\n",
              "      <td>float64</td>\n",
              "    </tr>\n",
              "    <tr>\n",
              "      <th>temp</th>\n",
              "      <td>float64</td>\n",
              "    </tr>\n",
              "    <tr>\n",
              "      <th>dwpt</th>\n",
              "      <td>float64</td>\n",
              "    </tr>\n",
              "    <tr>\n",
              "      <th>rhum</th>\n",
              "      <td>float64</td>\n",
              "    </tr>\n",
              "    <tr>\n",
              "      <th>prcp</th>\n",
              "      <td>float64</td>\n",
              "    </tr>\n",
              "    <tr>\n",
              "      <th>wdir</th>\n",
              "      <td>float64</td>\n",
              "    </tr>\n",
              "    <tr>\n",
              "      <th>wspd</th>\n",
              "      <td>float64</td>\n",
              "    </tr>\n",
              "    <tr>\n",
              "      <th>pres</th>\n",
              "      <td>float64</td>\n",
              "    </tr>\n",
              "  </tbody>\n",
              "</table>\n",
              "</div><br><label><b>dtype:</b> object</label>"
            ]
          },
          "metadata": {},
          "execution_count": 54
        }
      ]
    },
    {
      "cell_type": "code",
      "source": [
        "df.nunique()"
      ],
      "metadata": {
        "colab": {
          "base_uri": "https://localhost:8080/",
          "height": 554
        },
        "id": "RGpnJkMZJVXD",
        "outputId": "e3bf7efe-fe98-46a0-badf-7a58ea4ee6e9"
      },
      "execution_count": 55,
      "outputs": [
        {
          "output_type": "execute_result",
          "data": {
            "text/plain": [
              "year        4\n",
              "month      12\n",
              "day        31\n",
              "hour       24\n",
              "pm10     8934\n",
              "so2      3184\n",
              "no2      7854\n",
              "o3       9691\n",
              "temp      404\n",
              "dwpt      345\n",
              "rhum       86\n",
              "prcp       75\n",
              "wdir      352\n",
              "wspd      143\n",
              "pres      423\n",
              "dtype: int64"
            ],
            "text/html": [
              "<div>\n",
              "<style scoped>\n",
              "    .dataframe tbody tr th:only-of-type {\n",
              "        vertical-align: middle;\n",
              "    }\n",
              "\n",
              "    .dataframe tbody tr th {\n",
              "        vertical-align: top;\n",
              "    }\n",
              "\n",
              "    .dataframe thead th {\n",
              "        text-align: right;\n",
              "    }\n",
              "</style>\n",
              "<table border=\"1\" class=\"dataframe\">\n",
              "  <thead>\n",
              "    <tr style=\"text-align: right;\">\n",
              "      <th></th>\n",
              "      <th>0</th>\n",
              "    </tr>\n",
              "  </thead>\n",
              "  <tbody>\n",
              "    <tr>\n",
              "      <th>year</th>\n",
              "      <td>4</td>\n",
              "    </tr>\n",
              "    <tr>\n",
              "      <th>month</th>\n",
              "      <td>12</td>\n",
              "    </tr>\n",
              "    <tr>\n",
              "      <th>day</th>\n",
              "      <td>31</td>\n",
              "    </tr>\n",
              "    <tr>\n",
              "      <th>hour</th>\n",
              "      <td>24</td>\n",
              "    </tr>\n",
              "    <tr>\n",
              "      <th>pm10</th>\n",
              "      <td>8934</td>\n",
              "    </tr>\n",
              "    <tr>\n",
              "      <th>so2</th>\n",
              "      <td>3184</td>\n",
              "    </tr>\n",
              "    <tr>\n",
              "      <th>no2</th>\n",
              "      <td>7854</td>\n",
              "    </tr>\n",
              "    <tr>\n",
              "      <th>o3</th>\n",
              "      <td>9691</td>\n",
              "    </tr>\n",
              "    <tr>\n",
              "      <th>temp</th>\n",
              "      <td>404</td>\n",
              "    </tr>\n",
              "    <tr>\n",
              "      <th>dwpt</th>\n",
              "      <td>345</td>\n",
              "    </tr>\n",
              "    <tr>\n",
              "      <th>rhum</th>\n",
              "      <td>86</td>\n",
              "    </tr>\n",
              "    <tr>\n",
              "      <th>prcp</th>\n",
              "      <td>75</td>\n",
              "    </tr>\n",
              "    <tr>\n",
              "      <th>wdir</th>\n",
              "      <td>352</td>\n",
              "    </tr>\n",
              "    <tr>\n",
              "      <th>wspd</th>\n",
              "      <td>143</td>\n",
              "    </tr>\n",
              "    <tr>\n",
              "      <th>pres</th>\n",
              "      <td>423</td>\n",
              "    </tr>\n",
              "  </tbody>\n",
              "</table>\n",
              "</div><br><label><b>dtype:</b> int64</label>"
            ]
          },
          "metadata": {},
          "execution_count": 55
        }
      ]
    },
    {
      "cell_type": "code",
      "source": [
        "# Tüm sütunların gösterilmesi ve ekran genişliğinin arttırılması\n",
        "pd.set_option('display.max_columns', None)\n",
        "pd.set_option('display.expand_frame_repr', False)  # DataFrame'in çok satıra bölünmesini engeller\n",
        "pd.set_option('display.width', None)           # Genişliği sınırlama\n",
        "\n",
        "print(df.describe(exclude=['datetime64[ns]', 'int64']).T)  # Datetime satırlarını çıkardım."
      ],
      "metadata": {
        "colab": {
          "base_uri": "https://localhost:8080/"
        },
        "id": "hQSt9GhjKD2x",
        "outputId": "4c7d6ae8-bbe4-4140-f126-3f32e35dd1cc"
      },
      "execution_count": 56,
      "outputs": [
        {
          "output_type": "stream",
          "name": "stdout",
          "text": [
            "        count         mean         std     min      25%      50%      75%      max\n",
            "pm10  32366.0    43.264454   25.314861    0.31    26.27    37.62    53.81   320.89\n",
            "so2   33940.0     8.258972    7.441090    0.00     3.83     6.23    10.46   209.86\n",
            "no2   33945.0    31.745957   20.415370    0.38    16.96    27.27    41.70   178.03\n",
            "o3    22884.0    54.206199   30.292367    1.28    31.28    53.39    75.26   192.34\n",
            "temp  35064.0    15.521986    8.121103   -8.30     9.20    15.00    22.00    43.00\n",
            "dwpt  35064.0    10.790038    6.541019   -9.50     6.20    11.00    16.00    27.00\n",
            "rhum  35064.0    75.925650   16.789278   13.00    64.00    78.00    89.00   100.00\n",
            "prcp  34778.0     0.073679    0.383725    0.00     0.00     0.00     0.00    11.70\n",
            "wdir  35035.0   118.630427  115.663545    0.00    30.00    51.00   200.00   360.00\n",
            "wspd  35064.0    16.274809   11.481866    0.00     5.40    14.80    24.10    74.20\n",
            "pres  34902.0  1015.906143    6.416063  980.00  1011.60  1015.00  1020.00  1038.20\n"
          ]
        }
      ]
    },
    {
      "cell_type": "markdown",
      "source": [
        "##Eksik Veri Analizi ve Temizleme"
      ],
      "metadata": {
        "id": "MPYoWqUXbBk6"
      }
    },
    {
      "cell_type": "code",
      "source": [
        "# Eksik veri sayısı ve oranı\n",
        "eksik = df.isnull().sum()\n",
        "oran = 100 * df.isnull().mean()\n",
        "\n",
        "# Sadece eksik değeri olanları yazdır\n",
        "print(pd.DataFrame({'Eksik veri Sayısı': eksik, 'Oran (%)': oran.map(lambda x: f'{x:.3f}')})[eksik > 0])"
      ],
      "metadata": {
        "colab": {
          "base_uri": "https://localhost:8080/"
        },
        "id": "mrR3OLe-GI2k",
        "outputId": "c2624430-bb11-4050-9231-b2ae9ec24afb"
      },
      "execution_count": 52,
      "outputs": [
        {
          "output_type": "stream",
          "name": "stdout",
          "text": [
            "      Eksik veri Sayısı Oran (%)\n",
            "pm10               2698    7.695\n",
            "so2                1124    3.206\n",
            "no2                1119    3.191\n",
            "o3                12180   34.736\n",
            "prcp                286    0.816\n",
            "wdir                 29    0.083\n",
            "pres                162    0.462\n"
          ]
        }
      ]
    },
    {
      "cell_type": "markdown",
      "source": [
        "Fonksyonlar\n",
        " isnull(), fillna() fonksiyonlar1 eksik\n",
        "verileri tespit etme ve doldurma için\n",
        "kullan1l1r\n",
        "\n",
        "Yapay zeka önerileri ile eksik veri\n",
        "stratejileri geli_tirilir. Daha do ru ve\n",
        "güvenilir veri setleri olu_turulur.\n",
        "\n",
        " Eksik veri analizi, veri kalitesini\n",
        "art1rmak için kritik öneme sahiptir.\n",
        "Do ru analizler için temel olu_turur.\n"
      ],
      "metadata": {
        "id": "MfZSTKn6jS57"
      }
    },
    {
      "cell_type": "markdown",
      "source": [
        "## Aykırı Değerler (Outliers)"
      ],
      "metadata": {
        "id": "fK38CahTbrOs"
      }
    },
    {
      "cell_type": "markdown",
      "source": [
        "Tespt Yöntemler\n",
        " Kutu grafikleri (box plots)\n",
        "ve IQR (Çeyrekler Aras1\n",
        "Aral1k) yöntemi (1.5×IQR\n",
        "kural1) aykırı değerleri\n",
        "belirlemek için kullan1l1r.\n",
        "Makine öğrenmesi\n",
        "algoritmalar1 (Isolation\n",
        "Forest, LOF, DBSCAN gibi)\n",
        "karmaşık veri setlerindeki\n",
        "aykırı değerleri tespit etmede\n",
        "geleneksel yöntemlerden\n",
        "daha başarılıdır"
      ],
      "metadata": {
        "id": "6B7zq6Qnh1Wb"
      }
    },
    {
      "cell_type": "markdown",
      "source": [
        "Görselleştirme\n",
        "Teknikler\n",
        " Scatter plot, box plot ve\n",
        "histogram gibi\n",
        "görselleştirme teknikleri,\n",
        "aykırı değerlerin görsel olarak\n",
        "tespit edilmesine yardımcı\n",
        "olur\n",
        "\n",
        " Bu görselleştirmeler veri\n",
        "eğilimlerini ve sapmalar1n1\n",
        "h1zl1ca tanımlamayı sağlar."
      ],
      "metadata": {
        "id": "MLJWEau4iYEZ"
      }
    },
    {
      "cell_type": "markdown",
      "source": [
        "Ele Alma Stratej ler\n",
        " Ayk1r1 de erler tespit\n",
        "edildikten sonra silme,\n",
        "dönü_türme, impütasyon\n",
        "veya ayr1 bir model ile ele\n",
        "alma gibi farkl1 stratejiler\n",
        "uygulanabilir."
      ],
      "metadata": {
        "id": "HbCjdrycjGG7"
      }
    },
    {
      "cell_type": "markdown",
      "source": [
        "## Veri Görselleştirme"
      ],
      "metadata": {
        "id": "I6eJVfI-b9-E"
      }
    },
    {
      "cell_type": "markdown",
      "source": [
        "Histogram (plot.hist())\n",
        " Verideki dagılımın şeklini, modunu\n",
        "ve aralıkların gösterir. Bu grafikler\n",
        "simetri, çarpıklık ve çok modluluk\n",
        "gibi özellikleri görünür kılar ve\n",
        "sürekli değişkenlerin analizinde\n",
        "temel araçtır."
      ],
      "metadata": {
        "id": "SGW4ueTzfwoM"
      }
    },
    {
      "cell_type": "markdown",
      "source": [
        "Yoğunluk Grafikleri\n",
        " Kernel yo unluk tahmini (KDE)\n",
        "kullanarak daha yumuşak dağılımm\n",
        "gösterimleri sunar. Özellikle küçük\n",
        "örneklemlerde histogramlara göre\n",
        "daha az gürültülü ve çoklu\n",
        "dağılımlar karşılaştırmada etkilidir"
      ],
      "metadata": {
        "id": "mY2eV6a6gUpL"
      }
    },
    {
      "cell_type": "markdown",
      "source": [
        "AI Otomasyonu\n",
        " Görselle_tirme süreçleri optimize\n",
        "edilebilir. AI algoritmalar1 en uygun\n",
        "grafik türünü önerebilir, renk\n",
        "Şemalar1n1 iyileştirebilir ve otomatik\n",
        "yorumlar üretebilir. Ayr1ca büyük\n",
        "veri setlerindeki anomalileri tespit\n",
        "etmede de kullan1labilir"
      ],
      "metadata": {
        "id": "YaPZ2n9Xhekj"
      }
    },
    {
      "cell_type": "markdown",
      "source": [
        "## Korelasyon Analizi"
      ],
      "metadata": {
        "id": "wxuApUlXcWBH"
      }
    },
    {
      "cell_type": "markdown",
      "source": [
        "Korelasyon Hesaplama\n",
        " corr() fonksiyonu ile de i_kenler\n",
        "aras1ndaki ili_kiler analiz edilir.\n",
        "Pearson, Spearman ve Kendall gibi\n",
        "farkl1 korelasyon yöntemleri, veri\n",
        "tipine ve da 1l1m1na göre\n",
        "seçilmelidir."
      ],
      "metadata": {
        "id": "eb5wV3bAfPJC"
      }
    },
    {
      "cell_type": "markdown",
      "source": [
        "Is1 Hartalar1 le\n",
        "Görselle_trme\n",
        " Is1 haritalar1, çok boyutlu veri\n",
        "setlerindeki ili_kileri görsel olarak\n",
        "anlamak için etkili araçlard1r.\n",
        "Özellikle sns.heatmap() fonksiyonu,\n",
        "korelasyon matrislerini renk\n",
        "kodlar1yla göstererek, güçlü ili_kileri\n",
        "h1zl1ca tespit etmeyi sa lar"
      ],
      "metadata": {
        "id": "Z3oOUBDZfSCz"
      }
    },
    {
      "cell_type": "markdown",
      "source": [
        "Doğru Yorumlama\n",
        " Korelasyon analizi, modelleme\n",
        "için önemli ipuçları verse de\n",
        "\"korelasyon nedensellik\n",
        "değildir\" prensibi\n",
        "hat1rlanmal1d1r. Güçlü\n",
        "korelasyonlar, hipotez\n",
        "olu_turma ve daha detayl1\n",
        "analizler için yol gösterici olarak\n",
        "kullan1lmal1d1r."
      ],
      "metadata": {
        "id": "an2JJI6LfWNb"
      }
    },
    {
      "cell_type": "markdown",
      "source": [
        "## Kategorik Veri Analizi"
      ],
      "metadata": {
        "id": "CYp8D9LOcnon"
      }
    },
    {
      "cell_type": "markdown",
      "source": [
        " Kategorik veriler, s1n1rl1 say1da olas1 de er alan ve genellikle nominal veya ordinal ölçeklerde ifade edilen veri\n",
        "türleridir. Bu tür verilerin analizi, örüntüleri ke_fetmek ve da 1l1m özelliklerini anlamak için kritik öneme sahiptir."
      ],
      "metadata": {
        "id": "DTolQTsYe5pT"
      }
    },
    {
      "cell_type": "markdown",
      "source": [
        "## Çok Değişkenli Analiz"
      ],
      "metadata": {
        "id": "N_NGXrYwc9w7"
      }
    },
    {
      "cell_type": "markdown",
      "source": [
        " scatter_matrix() ve pairplot() kullan1larak çok de i_kenli analiz yap1l1r. AI ile de i_kenler aras1 ili_kilerin\n",
        "yorumlanmas1 sa lan1r. Çok de i_kenli analiz, verideki karma_1k ili_kileri ortaya ç1kar1r.\n"
      ],
      "metadata": {
        "id": "_PCIBOzkewyX"
      }
    },
    {
      "cell_type": "markdown",
      "source": [
        "## Otomatik EDA Raporlama"
      ],
      "metadata": {
        "id": "ZqtyjPiLdR4D"
      }
    },
    {
      "cell_type": "markdown",
      "source": [
        "Pandas-profiling kullan1kullanılarak otomatik EDA raporlar1 oluşturulur.\n",
        "Verinin genel durumu hakk1nda h1zl1ca bilgi edinilir"
      ],
      "metadata": {
        "id": "8L-qjmH-elFD"
      }
    },
    {
      "cell_type": "markdown",
      "source": [
        "# Feature Engineering"
      ],
      "metadata": {
        "id": "HhxMZMmCdlQD"
      }
    },
    {
      "cell_type": "markdown",
      "source": [
        "Feature engineering için\n",
        "AI önerileri alınır. Modelin\n",
        "performansını arttırmak\n",
        "için yeni özellikler\n",
        "oluşturulur"
      ],
      "metadata": {
        "id": "id2sqNPVeOre"
      }
    },
    {
      "cell_type": "markdown",
      "source": [
        "# Model Seçimi"
      ],
      "metadata": {
        "id": "TsmqJNkgdw67"
      }
    },
    {
      "cell_type": "markdown",
      "source": [
        " Model seçimi ve\n",
        "hiperparametre\n",
        "optimizasyonu\n",
        "tavsiyeleri al1n1r. En\n",
        "uygun model belirlenir.\n"
      ],
      "metadata": {
        "id": "_Qkmbm2SeMH4"
      }
    }
  ]
}